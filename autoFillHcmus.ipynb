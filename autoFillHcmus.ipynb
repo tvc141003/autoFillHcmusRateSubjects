{
 "cells": [
  {
   "cell_type": "code",
   "execution_count": 26,
   "metadata": {},
   "outputs": [],
   "source": [
    "from selenium import webdriver\n",
    "from selenium.webdriver.common.by import By\n",
    "import threading"
   ]
  },
  {
   "cell_type": "code",
   "execution_count": 38,
   "metadata": {},
   "outputs": [],
   "source": [
    "def submit(info, subject, teacher1, teacher2):\n",
    "    PATH = \"chromedriver.exe\"\n",
    "    driver = webdriver.Chrome(executable_path=r\"chromedriver.exe\")\n",
    "    driver.get('https://cs.hcmus.edu.vn/projects/fitsurvey/index.php?sid=36428&lang=vi')\n",
    "    driver.maximize_window()\n",
    "    driver.implicitly_wait(20)\n",
    "\n",
    "    submitButton = driver.find_element(By.CLASS_NAME, 'submit-buttons')\n",
    "    submitButton.find_element(By.CLASS_NAME, 'submit').click()\n",
    "\n",
    "    name = r\"Trương Văn Chí\"\n",
    "    id = r\"21127021\"\n",
    "    majorClass = r\"21CLC04\"\n",
    "\n",
    "    textInput = driver.find_elements(By.CLASS_NAME, 'text')\n",
    "    textInput[0].send_keys(info['id'])\n",
    "    textInput[1].send_keys(info['name'])\n",
    "    textInput[2].send_keys(info['majorClass'])\n",
    "\n",
    "    driver.find_element(By.XPATH, f\"//*[text()='{info['mainClass']}']\").click()\n",
    "    driver.find_element(By.XPATH, f\"//*[text()='{subject}']\").click()\n",
    "    driver.find_element(By.CLASS_NAME, \"submit\").click()\n",
    "\n",
    "    radio = driver.find_elements(By.XPATH, \"//*[text()='5']\")\n",
    "    for i in radio: i.click()\n",
    "    driver.find_element(By.CLASS_NAME, \"submit\").click()\n",
    "\n",
    "    radio = driver.find_elements(By.XPATH, \"//*[text()='5']\")\n",
    "    for i in radio: i.click()\n",
    "    driver.find_element(By.CLASS_NAME, \"submit\").click()\n",
    "\n",
    "    radio = driver.find_elements(By.XPATH, \"//*[text()='5']\")\n",
    "    for i in radio: i.click()\n",
    "    driver.find_element(By.CLASS_NAME, \"submit\").click()\n",
    "\n",
    "    nameTeacher1 = 'Bùi Tiến Lên'\n",
    "    driver.find_element(By.XPATH, f\"//*[text()='{teacher1}']\").click()\n",
    "    radio = driver.find_elements(By.XPATH, \"//*[text()='5']\")\n",
    "    for i in radio: i.click()\n",
    "    driver.find_element(By.CLASS_NAME, \"submit\").click()\n",
    "\n",
    "    nameTeacher2 = 'Cao Xuân Nam'\n",
    "    if (teacher2 == 'NULL'):\n",
    "        driver.find_element(By.XPATH, f\"//*[text()='Khác']\").click()\n",
    "        driver.find_element(By.CLASS_NAME, 'text').send_keys('Không')\n",
    "    else:\n",
    "        driver.find_element(By.XPATH, f\"//*[text()='{teacher2}']\").click()\n",
    "        radio = driver.find_elements(By.XPATH, \"//*[text()='5']\")\n",
    "        for i in radio: i.click()\n",
    "        driver.find_element(By.CLASS_NAME, \"submit\").click()\n",
    "\n",
    "    radio = driver.find_elements(By.XPATH, \"//*[text()='5']\")\n",
    "    for i in radio: i.click()\n",
    "    driver.find_element(By.CLASS_NAME, \"submit\").click()"
   ]
  },
  {
   "cell_type": "code",
   "execution_count": 28,
   "metadata": {},
   "outputs": [],
   "source": [
    "info = {\n",
    "    'name': r'Trương Văn Chí',\n",
    "    'id': 21127021,\n",
    "    'mainClass': r\"21CLC06\",\n",
    "    'majorClass': r'21CLC04',\n",
    "}\n",
    "\n",
    "subjects = [\n",
    "    'BAA00003 - Tư tưởng Hồ Chí Minh',\n",
    "    'BAA00021 - Thể dục 1',\n",
    "    'CSC10003 - Phương pháp lập trình hướng đối tượng',\n",
    "    'MTH00050 - Toán học tổ hợp',\n",
    "]\n",
    "\n",
    "nameTeacher1 = [\n",
    "    'Ngô Thị Kim Liên',\n",
    "    'Lê Hải',\n",
    "    'Trần Duy Quang',\n",
    "    'Mai Hoàng Biên'\n",
    "]\n",
    "\n",
    "nameTeacher2 = [\n",
    "    'NULL',\n",
    "    'NULL',\n",
    "    'Nguyễn Lê Hoàng Dũng',\n",
    "    'Phạm Thế Nhân'\n",
    "]"
   ]
  },
  {
   "cell_type": "code",
   "execution_count": 40,
   "metadata": {},
   "outputs": [
    {
     "name": "stderr",
     "output_type": "stream",
     "text": [
      "C:\\Users\\DELL\\AppData\\Local\\Temp\\ipykernel_24460\\4162544758.py:3: DeprecationWarning: executable_path has been deprecated, please pass in a Service object\n",
      "  driver = webdriver.Chrome(executable_path=r\"chromedriver.exe\")\n"
     ]
    }
   ],
   "source": [
    "for i in range(4):\n",
    "    subject = subjects[i]\n",
    "    teacher1 = nameTeacher1[i]\n",
    "    teacher2 = nameTeacher2[i]\n",
    "    #submit(info, subject, teacher1, teacher2)\n",
    "    submitForm = threading.Thread(target=submit, args = (info, subject, teacher1, teacher2,))\n",
    "    submitForm.start()"
   ]
  }
 ],
 "metadata": {
  "kernelspec": {
   "display_name": "Python 3",
   "language": "python",
   "name": "python3"
  },
  "language_info": {
   "codemirror_mode": {
    "name": "ipython",
    "version": 3
   },
   "file_extension": ".py",
   "mimetype": "text/x-python",
   "name": "python",
   "nbconvert_exporter": "python",
   "pygments_lexer": "ipython3",
   "version": "3.10.5"
  },
  "orig_nbformat": 4,
  "vscode": {
   "interpreter": {
    "hash": "fbc768028c3e6ead51d9a200ddcb2ec858ae62844dcd1994729a8279be9b48f2"
   }
  }
 },
 "nbformat": 4,
 "nbformat_minor": 2
}
